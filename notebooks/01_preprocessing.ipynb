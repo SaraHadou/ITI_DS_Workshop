{
 "cells": [
  {
   "cell_type": "code",
   "execution_count": 1,
   "metadata": {},
   "outputs": [],
   "source": [
    "# Constants\n",
    "DATA_PATH   = \"../data/raw/survey_results_public.csv\"\n",
    "EXPORT_PATH = \"../data/processed/1_preprocessed_df.pk1\"\n",
    "\n",
    "REPLACE_DICT = { \n",
    "    'YearsCodePro': {    'Less than 1 year': 0, 'More than 50 years': 51},\n",
    "    'YearsCode':    {    'Less than 1 year': 0, 'More than 50 years': 51},\n",
    "    'Age1stCode':   {'Younger than 5 years': 4,      'Older than 85': 86}}\n",
    "      "
   ]
  },
  {
   "cell_type": "code",
   "execution_count": 2,
   "metadata": {},
   "outputs": [],
   "source": [
    "# Load packages\n",
    "import pandas as pd\n",
    "import numpy  as np\n",
    "import logging\n",
    "import pickle"
   ]
  },
  {
   "cell_type": "markdown",
   "metadata": {},
   "source": [
    "_______"
   ]
  },
  {
   "cell_type": "markdown",
   "metadata": {},
   "source": [
    "# Functions"
   ]
  },
  {
   "cell_type": "code",
   "execution_count": 3,
   "metadata": {},
   "outputs": [],
   "source": [
    "def split_answers(data_series, delimiter=\";\"):\n",
    "    \"\"\"\n",
    "    Split multiple answers in a single string\n",
    "    to a list of single strings each represents a single answers\n",
    "    \n",
    "    Args:\n",
    "    ----\n",
    "    * data_series (pd.Series): String series with answers\n",
    "    * delimiter (String): Another decimal integer\n",
    "                          Default to \";\"\n",
    "   \n",
    "   Returns:\n",
    "    -------  \n",
    "    return (pd.Series): if column contains delimiter\n",
    "    \"\"\"\n",
    "    \n",
    "    # Sub functions\n",
    "    def is_splittable(pd_series, delimiter):\n",
    "        \"\"\" \n",
    "        Check if it has multiple answers, needs to be splitted \n",
    "        Reurns:  \n",
    "                (boolean)  \n",
    "        \"\"\"\n",
    "        return pd_series.str.contains(delimiter)\n",
    "    \n",
    "    \n",
    "    def split_answer(pd_series, delimiter):\n",
    "        \"\"\" Function to split single answer \"\"\"\n",
    "        return pd_series.str.split(delimiter)\n",
    "    \n",
    "    # ----------------------\n",
    "   \n",
    "    # Check if multiple answers exist - if none: return original\n",
    "    Splittable_values = is_splittable(data_series, delimiter)\n",
    "    if not Splittable_values.any():\n",
    "        return data_series\n",
    "    \n",
    "    # Else, split each value to a list\n",
    "    modified_series = split_answer(data_series, delimiter)\n",
    "    \n",
    "    # Replace NAN values with empty lists\n",
    "    mask_null = modified_series.isnull()\n",
    "    modified_series.loc[mask_null] = modified_series.loc[mask_null].apply(lambda x: [])\n",
    "    \n",
    "    return modified_series\n",
    "    "
   ]
  },
  {
   "cell_type": "markdown",
   "metadata": {},
   "source": [
    "____"
   ]
  },
  {
   "cell_type": "markdown",
   "metadata": {},
   "source": [
    "# Processing"
   ]
  },
  {
   "cell_type": "code",
   "execution_count": 4,
   "metadata": {},
   "outputs": [],
   "source": [
    "# read raw data\n",
    "raw_df = pd.read_csv(DATA_PATH)\n",
    "df = raw_df.copy()"
   ]
  },
  {
   "cell_type": "markdown",
   "metadata": {},
   "source": [
    "#### 1. Split multiple answers"
   ]
  },
  {
   "cell_type": "code",
   "execution_count": 5,
   "metadata": {},
   "outputs": [],
   "source": [
    "# Select object columns\n",
    "object_cols = df.select_dtypes(include='object').columns.tolist()\n",
    "for col in object_cols:\n",
    "    df[col] = split_answers(df[col])"
   ]
  },
  {
   "cell_type": "markdown",
   "metadata": {},
   "source": [
    "#### 2. Replace Values"
   ]
  },
  {
   "cell_type": "code",
   "execution_count": 6,
   "metadata": {},
   "outputs": [],
   "source": [
    "for col, replacement in REPLACE_DICT.items():\n",
    "    df[col] = df[col].replace(replacement).astype(np.float32)"
   ]
  },
  {
   "cell_type": "markdown",
   "metadata": {},
   "source": [
    "___"
   ]
  },
  {
   "cell_type": "markdown",
   "metadata": {},
   "source": [
    "# Export Data"
   ]
  },
  {
   "cell_type": "code",
   "execution_count": 7,
   "metadata": {},
   "outputs": [],
   "source": [
    "df.to_pickle(EXPORT_PATH)"
   ]
  },
  {
   "cell_type": "markdown",
   "metadata": {},
   "source": [
    "____"
   ]
  }
 ],
 "metadata": {
  "kernelspec": {
   "display_name": "Python 3",
   "language": "python",
   "name": "python3"
  },
  "language_info": {
   "codemirror_mode": {
    "name": "ipython",
    "version": 3
   },
   "file_extension": ".py",
   "mimetype": "text/x-python",
   "name": "python",
   "nbconvert_exporter": "python",
   "pygments_lexer": "ipython3",
   "version": "3.8.5"
  }
 },
 "nbformat": 4,
 "nbformat_minor": 4
}
